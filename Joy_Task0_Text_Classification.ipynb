{
 "cells": [
  {
   "cell_type": "code",
   "execution_count": 1,
   "id": "c0db2b5c",
   "metadata": {},
   "outputs": [],
   "source": [
    "from pprint import pprint\n",
    "import warnings\n",
    "warnings.filterwarnings('ignore')\n",
    "import pandas as pd\n",
    "import numpy as np\n",
    "import nltk\n",
    "from nltk import WordNetLemmatizer\n",
    "from nltk.corpus import stopwords\n",
    "\n",
    "from sklearn.datasets import fetch_20newsgroups\n",
    "from sklearn.feature_extraction.text import CountVectorizer, TfidfTransformer, TfidfVectorizer\n",
    "from gensim.models import Word2Vec\n",
    "from sklearn.naive_bayes import MultinomialNB\n",
    "from sklearn.linear_model import LogisticRegression\n",
    "from sklearn.svm import SVC\n",
    "from sklearn.tree import DecisionTreeClassifier\n",
    "from sklearn.metrics import accuracy_score"
   ]
  },
  {
   "cell_type": "code",
   "execution_count": 2,
   "id": "7fe04a24",
   "metadata": {},
   "outputs": [],
   "source": [
    "# nltk.download('stopwords')\n",
    "# nltk.download('punkt')\n",
    "# nltk.download('wordnet')\n",
    "stop_words = set(stopwords.words('english'))\n",
    "lemmatizer = WordNetLemmatizer()"
   ]
  },
  {
   "cell_type": "code",
   "execution_count": 3,
   "id": "b90856bd",
   "metadata": {},
   "outputs": [],
   "source": [
    "categories = [\n",
    "  'sci.electronics',\n",
    "    'comp.graphics',\n",
    "    'soc.religion.christian'\n",
    "]"
   ]
  },
  {
   "cell_type": "code",
   "execution_count": 4,
   "id": "eeb1426e",
   "metadata": {},
   "outputs": [
    {
     "data": {
      "text/plain": [
       "1774"
      ]
     },
     "execution_count": 4,
     "metadata": {},
     "output_type": "execute_result"
    }
   ],
   "source": [
    "dataset = fetch_20newsgroups(subset='train', categories=categories)\n",
    "len(dataset.data)"
   ]
  },
  {
   "cell_type": "code",
   "execution_count": 5,
   "id": "bf7567f0",
   "metadata": {},
   "outputs": [],
   "source": [
    "#defining training and test data\n",
    "my_train = fetch_20newsgroups(subset='train', categories=categories)\n",
    "my_test = fetch_20newsgroups(subset='test', categories=categories)"
   ]
  },
  {
   "cell_type": "code",
   "execution_count": 6,
   "metadata": {},
   "outputs": [],
   "source": [
    "X_train = my_train.data\n",
    "y_train = my_train.target\n",
    "\n",
    "X_test = my_test.data\n",
    "y_test = my_test.target"
   ]
  },
  {
   "cell_type": "code",
   "execution_count": null,
   "id": "74045f32",
   "metadata": {},
   "outputs": [],
   "source": []
  },
  {
   "cell_type": "code",
   "execution_count": 7,
   "id": "a75d7e5f",
   "metadata": {},
   "outputs": [],
   "source": [
    "results = []\n",
    "classifiers = {\n",
    "    'MultinomialNB': MultinomialNB(),\n",
    "    'LogisticRegression': LogisticRegression(),\n",
    "    'SVC': SVC(),\n",
    "    'DecisionTree': DecisionTreeClassifier(),\n",
    "}"
   ]
  },
  {
   "cell_type": "markdown",
   "id": "16420da7",
   "metadata": {},
   "source": [
    "Countvectorizer Extractor"
   ]
  },
  {
   "cell_type": "code",
   "execution_count": 8,
   "id": "df59243a",
   "metadata": {},
   "outputs": [
    {
     "name": "stdout",
     "output_type": "stream",
     "text": [
      "[{'Accuracy': 0.8957627118644068,\n",
      "  'Algorithm': 'MultinomialNB',\n",
      "  'Feature Extractor': 'CountVectorizer'},\n",
      " {'Accuracy': 0.9271186440677966,\n",
      "  'Algorithm': 'LogisticRegression',\n",
      "  'Feature Extractor': 'CountVectorizer'},\n",
      " {'Accuracy': 0.923728813559322,\n",
      "  'Algorithm': 'SVC',\n",
      "  'Feature Extractor': 'CountVectorizer'},\n",
      " {'Accuracy': 0.7754237288135594,\n",
      "  'Algorithm': 'DecisionTree',\n",
      "  'Feature Extractor': 'CountVectorizer'}]\n"
     ]
    }
   ],
   "source": [
    "vect = CountVectorizer()\n",
    "X_train_counts = vect.fit_transform(X_train)\n",
    "x_test_counts = vect.transform(X_test)\n",
    "\n",
    "\n",
    "tfidf_transformer = TfidfTransformer()\n",
    "x_train_tfidf = tfidf_transformer.fit_transform(X_train_counts)\n",
    "x_test_tfidf = tfidf_transformer.transform(x_test_counts)\n",
    "\n",
    "for name, classifier in classifiers.items():\n",
    "    classifier.fit(x_train_tfidf, y_train)\n",
    "    y_pred = classifier.predict(x_test_tfidf)\n",
    "\n",
    "    accuracy =  accuracy_score(y_test, y_pred)\n",
    "    results.append({'Feature Extractor':'CountVectorizer', 'Algorithm': name, 'Accuracy': accuracy})\n",
    "\n",
    "pprint(results)"
   ]
  },
  {
   "cell_type": "markdown",
   "id": "d6425c48",
   "metadata": {},
   "source": [
    "TF-IDF Vectorizer"
   ]
  },
  {
   "cell_type": "code",
   "execution_count": 9,
   "id": "86b117da",
   "metadata": {},
   "outputs": [
    {
     "name": "stdout",
     "output_type": "stream",
     "text": [
      "[{'Accuracy': 0.8957627118644068,\n",
      "  'Algorithm': 'MultinomialNB',\n",
      "  'Feature Extractor': 'CountVectorizer'},\n",
      " {'Accuracy': 0.9271186440677966,\n",
      "  'Algorithm': 'LogisticRegression',\n",
      "  'Feature Extractor': 'CountVectorizer'},\n",
      " {'Accuracy': 0.923728813559322,\n",
      "  'Algorithm': 'SVC',\n",
      "  'Feature Extractor': 'CountVectorizer'},\n",
      " {'Accuracy': 0.7754237288135594,\n",
      "  'Algorithm': 'DecisionTree',\n",
      "  'Feature Extractor': 'CountVectorizer'},\n",
      " {'Accuracy': 0.8957627118644068,\n",
      "  'Algorithm': 'MultinomialNB',\n",
      "  'Feature Extractor': 'TfidfVectorizer'},\n",
      " {'Accuracy': 0.9271186440677966,\n",
      "  'Algorithm': 'LogisticRegression',\n",
      "  'Feature Extractor': 'TfidfVectorizer'},\n",
      " {'Accuracy': 0.923728813559322,\n",
      "  'Algorithm': 'SVC',\n",
      "  'Feature Extractor': 'TfidfVectorizer'},\n",
      " {'Accuracy': 0.7796610169491526,\n",
      "  'Algorithm': 'DecisionTree',\n",
      "  'Feature Extractor': 'TfidfVectorizer'}]\n"
     ]
    }
   ],
   "source": [
    "tfidf_vectorizer = TfidfVectorizer()\n",
    "X_train_vect = tfidf_vectorizer.fit_transform(X_train)\n",
    "X_test_vect = tfidf_vectorizer.transform(X_test)\n",
    "\n",
    "for name, classifier in classifiers.items():\n",
    "    classifier.fit(X_train_vect, y_train)\n",
    "    y_pred = classifier.predict(X_test_vect)\n",
    "\n",
    "    accuracy =  accuracy_score(y_test, y_pred)\n",
    "    results.append({'Feature Extractor':'TfidfVectorizer', 'Algorithm': name, 'Accuracy': accuracy})\n",
    "\n",
    "\n",
    "pprint(results)"
   ]
  },
  {
   "cell_type": "markdown",
   "id": "668bfcd8",
   "metadata": {},
   "source": [
    "Word2vec Extractor"
   ]
  },
  {
   "cell_type": "code",
   "execution_count": 10,
   "metadata": {},
   "outputs": [],
   "source": [
    "from nltk.tokenize import word_tokenize\n",
    "from sklearn.preprocessing import MinMaxScaler\n",
    "\n",
    "train_tokens  =  [word_tokenize(doc.lower()) for doc in X_train]\n",
    "test_tokens = [word_tokenize(doc.lower()) for doc in X_test]\n",
    "\n",
    "word2vec_model = Word2Vec(sentences=train_tokens, vector_size=100, window=5,  workers=4, seed=42)\n",
    "\n",
    "def  document_vector(word2vec_model, doc_tokens):\n",
    "      words  = [word for word in doc_tokens if word in word2vec_model.wv.key_to_index]\n",
    "      if len(words) == 0:\n",
    "        return  np.zeros(word2vec_model.wv.vector_size)\n",
    "      return  np.mean(word2vec_model.wv[words], axis=0)\n",
    "\n",
    "\n",
    "X_train_w2v = np.array([document_vector(word2vec_model,doc) for doc in train_tokens])\n",
    "X_test_w2v  = np.array([document_vector(word2vec_model,doc)for doc in test_tokens])\n",
    "\n",
    "scaler = MinMaxScaler()\n",
    "X_train_w2v_scaled = scaler.fit_transform(X_train_w2v)\n",
    "X_test_w2v_scaled = scaler.transform(X_test_w2v)\n",
    "\n",
    "for name, classifier in classifiers.items():\n",
    "    classifier.fit(X_train_w2v_scaled, y_train)\n",
    "    y_pred = classifier.predict(X_test_w2v_scaled)\n",
    "\n",
    "    accuracy =  accuracy_score(y_test, y_pred)\n",
    "    results.append({'Feature Extractor':'Word2Vec', 'Algorithm': name, 'Accuracy': accuracy})\n",
    "\n",
    "#pprint(results)"
   ]
  },
  {
   "cell_type": "code",
   "execution_count": 11,
   "id": "f6646b19",
   "metadata": {},
   "outputs": [
    {
     "name": "stdout",
     "output_type": "stream",
     "text": [
      "\n",
      "Best Extractor:\n",
      "{'Accuracy': 0.9271186440677966,\n",
      " 'Algorithm': 'LogisticRegression',\n",
      " 'Feature Extractor': 'CountVectorizer'}\n"
     ]
    }
   ],
   "source": [
    "\n",
    "results_df = pd.DataFrame(results)\n",
    "results_df['Accuracy'] = results_df['Accuracy'].round(3)\n",
    "\n",
    "#pprint(results_df)\n",
    "\n",
    "\n",
    "best_accuracy = 0\n",
    "best_config = None\n",
    "\n",
    "for row in results:\n",
    "    if row['Accuracy'] > best_accuracy:\n",
    "        best_accuracy = row['Accuracy']\n",
    "        best = row\n",
    "\n",
    "\n",
    "print(\"\\nBest Extractor:\")\n",
    "pprint(best)"
   ]
  },
  {
   "cell_type": "code",
   "execution_count": 12,
   "id": "22b3321b",
   "metadata": {},
   "outputs": [],
   "source": [
    "best_df = pd.DataFrame([best])"
   ]
  },
  {
   "cell_type": "code",
   "execution_count": 13,
   "id": "43e23247",
   "metadata": {},
   "outputs": [],
   "source": [
    "best_df.to_string('Joy_Task0_Text_Classification.txt', index=False)"
   ]
  }
 ],
 "metadata": {
  "kernelspec": {
   "display_name": "Python 3",
   "language": "python",
   "name": "python3"
  },
  "language_info": {
   "codemirror_mode": {
    "name": "ipython",
    "version": 3
   },
   "file_extension": ".py",
   "mimetype": "text/x-python",
   "name": "python",
   "nbconvert_exporter": "python",
   "pygments_lexer": "ipython3",
   "version": "3.10.9"
  }
 },
 "nbformat": 4,
 "nbformat_minor": 5
}
